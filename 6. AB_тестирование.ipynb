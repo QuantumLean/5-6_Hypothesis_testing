{
 "cells": [
  {
   "cell_type": "code",
   "execution_count": null,
   "id": "bf5fde05",
   "metadata": {},
   "outputs": [],
   "source": [
    "C:\\\\Users\\\\User\\Documents\\GitHub\\\\2022_DA_ML_CaseStudies_Python_Keras\\\\6. AB_тестирование_Py"
   ]
  },
  {
   "cell_type": "markdown",
   "id": "45cfde7c",
   "metadata": {},
   "source": [
    "## Содержание:\n",
    "\n",
    "#### A/B-тестирование: \n",
    "   - Пример 7: Предвыборная компания Барака Обамы.\n",
    "   \n",
    "#### Пропорции: алгоритм тестирования; \n",
    "   - z-метка;\n",
    "   - Метод Хи-квадрат; \n",
    "   - При помощи спец.команды.\n",
    "   "
   ]
  },
  {
   "cell_type": "markdown",
   "id": "8c0f9660",
   "metadata": {},
   "source": [
    "# A/B-тестирование (Тест для пропорции)"
   ]
  },
  {
   "cell_type": "markdown",
   "id": "edc01fe9",
   "metadata": {},
   "source": [
    "### Пример 7: Предвыборная компания Барака Обамы"
   ]
  },
  {
   "cell_type": "markdown",
   "id": "08f773c7",
   "metadata": {},
   "source": [
    "Кейс: 2007 год. В следующем году выборы.\n",
    "Барак Обама первый раз избирается в президенты, кампания уже началась.\n",
    "\n",
    "Сайт его предвыборного штаба.\n",
    "\n",
    "Предолагаемые целевые действия:\n",
    "1. Подписаться для рассылки рекламных буклетов;\n",
    "2. Внести добровольные пожертвования в поддержку кандидата;\n",
    "3. Записаться волонтером. \n",
    "\n",
    "Вопрос. Можно ли улучшить стартовую страницу (landing page) сайта, чтобы увеличить число людей, сделавших желаемое \n",
    "действие?\n",
    "https://disk.yandex.ru/i/Dx4JDEp3f2IU9w\n",
    "\n",
    "(По материалам книги\n",
    "Siroker, Koomen\n",
    "A/B Testing. The Most Powerful Way to Turn Clicks into Customers\n",
    "https://disk.yandex.ru/i/_0iTz47_ZamAyw)"
   ]
  },
  {
   "cell_type": "markdown",
   "id": "eebfa7b2",
   "metadata": {},
   "source": [
    "#### Что нужно было протестировать:"
   ]
  },
  {
   "cell_type": "markdown",
   "id": "5dbbb696",
   "metadata": {},
   "source": [
    "После рассмотрения нескольких вариантов редизайна стартовой страницы к АБ-тестированию было предложено два варианта лендинга:\n",
    "\n",
    "- Оригинальный вариант: '''SIGN UP'''\n",
    "- Вариации: '''SIGN UP NOW'''; \n",
    "    '''JOIN US NOW'''; \n",
    "    '''LEARN MORE'''\n",
    "    \n",
    " Вариантов размещения контента также было несколько (подробности по ссылке выше)"
   ]
  },
  {
   "cell_type": "markdown",
   "id": "bc1181e3",
   "metadata": {},
   "source": [
    "#### Критерии оценки:"
   ]
  },
  {
   "cell_type": "markdown",
   "id": "5abe0c80",
   "metadata": {},
   "source": [
    "Изменение показателей доли посетителей сайта, совершивших целевое действие"
   ]
  },
  {
   "cell_type": "markdown",
   "id": "18ac8c2f",
   "metadata": {},
   "source": [
    "#### Результаты: "
   ]
  },
  {
   "cell_type": "markdown",
   "id": "1a8395e1",
   "metadata": {},
   "source": [
    "##### Результаты проверки гипотез: \n",
    "1. Любое видео существенно ухудшало воздействие страницы.\n",
    "2. Окончательный вариант на голову превосходил все остальные. Подписка увеличилась на 40.6%.\n",
    "\n",
    "##### Увеличение показателей\n",
    "- числа email - подписчиков на 2.8 миллиона,\n",
    "- добровольные пожертвования выросли на $57 миллионов.\n",
    "- числа добровольцев на 288,000,\n",
    "\n",
    "##### Реакция СМИ:\n",
    "Через 4 года на президентских выборах 2012 года ведущие комментаторы TIME, The Atlantic,\n",
    "Businessweek и Forbes описывали штабы президентов как \"the most sophisticated, data-\n",
    "driven, and efficient organizations that politics had ever seen\" (самые утонченные,\n",
    "анализ ориентированные и эффективные организации, которые когда-либо видела политика)\n"
   ]
  },
  {
   "cell_type": "markdown",
   "id": "012eaf24",
   "metadata": {},
   "source": [
    "--------"
   ]
  },
  {
   "cell_type": "markdown",
   "id": "1e26fd28",
   "metadata": {},
   "source": [
    "### Пропорции: алгоритм тестирования"
   ]
  },
  {
   "cell_type": "markdown",
   "id": "e8aed733",
   "metadata": {},
   "source": [
    "A/B - тесты это: процедура исследования поведения аудитории методом \"что лучше\". Предполагается разделение выборки на несколько частей, каждая из которых более-менее одинакова.\n",
    "\n",
    "https://habr.com/ru/post/653363/ (прочитать про z-метрику)"
   ]
  },
  {
   "cell_type": "code",
   "execution_count": 2,
   "id": "37f7c8fa",
   "metadata": {},
   "outputs": [],
   "source": [
    "from scipy.stats import norm, chi2_contingency\n",
    "import statsmodels.api as sm\n",
    "import numpy as np"
   ]
  },
  {
   "cell_type": "markdown",
   "id": "4299817c",
   "metadata": {},
   "source": [
    "Кейс:  Ниже приведена статистика, демонстрирующая последствия аварий для лиц, пристегнутых ремнями безопасности (''' seat belt ''') и непристегнутыми (''' no seat belt '''). Несчастные случаи (''' died '''), все обошлось (''' survived ''')"
   ]
  },
  {
   "cell_type": "markdown",
   "id": "dea11358",
   "metadata": {},
   "source": [
    "Данные о смертности после аварии \n",
    "среди тех, кто пристегнул ремень\n",
    "и среди тех, кто пристегнул ремень\n",
    "              \n",
    "              \n",
    "```no seat belt```: (survived/died): 1781/135\n",
    "\n",
    "```seat belt```: (survived/died): 1443/47"
   ]
  },
  {
   "cell_type": "markdown",
   "id": "ad1a9df3",
   "metadata": {},
   "source": [
    "#### Вычисления вручную:"
   ]
  },
  {
   "cell_type": "code",
   "execution_count": null,
   "id": "56a06e86",
   "metadata": {},
   "outputs": [],
   "source": [
    "# Маркеруем данные по перременным в терминах теории вероятности:\n",
    "s1 = 135       #  число успехов (1)    выборка А\n",
    "n1 = 1781      #  число испытаний   выборка А\n",
    "\n",
    "s2 = 47        #  число успехов (1)    выборка Б\n",
    "n2 = 1443      #  число испытаний   выборка Б"
   ]
  },
  {
   "cell_type": "code",
   "execution_count": null,
   "id": "643224a2",
   "metadata": {},
   "outputs": [],
   "source": [
    "# Оцениваем вероятность успеха (1):\n",
    "p1 = s1/n1               #  оценка вероятности успеха выборка А\n",
    "p2 = s2/n2               #  оценка вероятности успеха выборка Б\n",
    "p = (s1 + s2)/(n1+n2)    #  оценка вероятности успеха выборка А+Б"
   ]
  },
  {
   "cell_type": "markdown",
   "id": "03e02faa",
   "metadata": {},
   "source": [
    "#### Z-метка:"
   ]
  },
  {
   "cell_type": "markdown",
   "id": "1a0d4f9a",
   "metadata": {},
   "source": [
    "Z-метка - это величина, маркирующая набор данных с нормальным распределением при достаточно большом количестве наблюдений\n",
    "Z-оценка представляет собой преобразование данных в стандартную Z-шкалу со средним $ \\mu_z = 0$ и $\\sigma_z = 1$ по следующей формуле:\n",
    "\n",
    "$$ z_{i} = \\frac{x_{i} - \\bar{x_{i}}}{\\sigma_{x}} $$"
   ]
  },
  {
   "cell_type": "code",
   "execution_count": 25,
   "id": "27fe4f28",
   "metadata": {},
   "outputs": [
    {
     "name": "stdout",
     "output_type": "stream",
     "text": [
      "['5.288388269523', '0.000000123399']\n"
     ]
    }
   ],
   "source": [
    "# Вычисляем z-метку\n",
    "z = (p2-p1)/ ((p*(1-p)*((1/n1)+(1/n2)))**0.5)  #  z-метка\n",
    "\n",
    "# Делаем подмену в пределе\n",
    "p_value = norm.cdf(z)\n",
    "\n",
    "#  Выводим значение z-метка и p-значение\n",
    "print(['{:.12f}'.format(a) for a in (abs(z), p_value * 2)])"
   ]
  },
  {
   "cell_type": "markdown",
   "id": "35b8675c",
   "metadata": {},
   "source": [
    "Результаты проверки гипотез: \n",
    "\n",
    "Значение p-value меньше, чем уровень значимости. Поэтому гипотезу о равенстве дисперсий отвергаем. "
   ]
  },
  {
   "cell_type": "markdown",
   "id": "08a44cf5",
   "metadata": {},
   "source": [
    "### При помощи спец.команды:"
   ]
  },
  {
   "cell_type": "code",
   "execution_count": 26,
   "id": "d033e15b",
   "metadata": {},
   "outputs": [
    {
     "name": "stdout",
     "output_type": "stream",
     "text": [
      "['5.288388269523', '0.000000123399']\n"
     ]
    }
   ],
   "source": [
    "z1, p_value1 = sm.stats.proportions_ztest([s1, s2], [n1, n2]) # вызов команды\n",
    "\n",
    "#  z-метка и p-значение\n",
    "print(['{:.12f}'.format(b) for b in (z1, p_value1)])"
   ]
  },
  {
   "cell_type": "markdown",
   "id": "79e9711a",
   "metadata": {},
   "source": [
    "### Методом Хи-квадрат:"
   ]
  },
  {
   "cell_type": "markdown",
   "id": "388f3aa9",
   "metadata": {},
   "source": [
    "Данный метод рекоммендовано применять после практики применения первых двух и понимания, почему результаты одинаковы"
   ]
  },
  {
   "cell_type": "code",
   "execution_count": 27,
   "id": "851a52ae",
   "metadata": {},
   "outputs": [
    {
     "name": "stdout",
     "output_type": "stream",
     "text": [
      "['5.288388269523', '0.000000123399']\n"
     ]
    }
   ],
   "source": [
    "#  Нельзя использовать, если Вы не понимаете,\n",
    "#  почему ответ такой же, как ранее!!!\n",
    "\n",
    "arr = np.array([[s1, n1-s1], [s2, n2-s2]])\n",
    "chi2, p_value3, dof, exp = chi2_contingency(arr, correction=False)\n",
    "\n",
    "print(['{:.12f}'.format(d) for d in (chi2**0.5, p_value3)])"
   ]
  },
  {
   "cell_type": "code",
   "execution_count": null,
   "id": "0f13c0b5",
   "metadata": {},
   "outputs": [],
   "source": []
  }
 ],
 "metadata": {
  "kernelspec": {
   "display_name": "Python 3 (ipykernel)",
   "language": "python",
   "name": "python3"
  },
  "language_info": {
   "codemirror_mode": {
    "name": "ipython",
    "version": 3
   },
   "file_extension": ".py",
   "mimetype": "text/x-python",
   "name": "python",
   "nbconvert_exporter": "python",
   "pygments_lexer": "ipython3",
   "version": "3.9.7"
  }
 },
 "nbformat": 4,
 "nbformat_minor": 5
}
