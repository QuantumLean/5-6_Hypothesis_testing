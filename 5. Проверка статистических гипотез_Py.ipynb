{
 "cells": [
  {
   "cell_type": "markdown",
   "id": "00a7f6bd",
   "metadata": {},
   "source": [
    "C:\\\\Users\\\\User\\Documents\\GitHub\\\\2022_DA_ML_CaseStudies_Python_Keras\\\\5_Проверка статистических гипотез_Py"
   ]
  },
  {
   "cell_type": "markdown",
   "id": "55c1ff46",
   "metadata": {},
   "source": [
    "* Проверка гипотезы о нормальности распределения.<br>\n",
    "H0: $X \\sim N(\\cdot, \\cdot)$<br>\n",
    "H1: $X \\nsim N(\\cdot, \\cdot)$<br>\n",
    "Критерий Шапиро-Уилка [scipy.stats.shapiro](https://docs.scipy.org/doc/scipy-0.14.0/reference/generated/scipy.stats.shapiro.html).<br>\n",
    "\n",
    "\n",
    "* Критерий согласия Стьюдента.<br>\n",
    "H0: $\\mu = M$<br>\n",
    "H1: $\\mu \\ne M$<br>\n",
    "[scipy.stats.ttest_1samp](https://docs.scipy.org/doc/scipy-0.14.0/reference/generated/scipy.stats.ttest_1samp.html).<br>\n",
    "\n",
    "\n",
    "* Проверка гипотезы о равенстве средних значений.<br>\n",
    "H0: $\\mu_1 = \\mu_2$<br>\n",
    "H1: $\\mu_1 \\ne \\mu_2$<br>\n",
    "Распределение выборок должно быть близко к нормальному.<br>\n",
    "  * Для несвязных выборок: [scipy.stats.ttest_ind](https://docs.scipy.org/doc/scipy-0.14.0/reference/generated/scipy.stats.ttest_ind.html).<br>\n",
    "  * Для связных выборок: [scipy.stats.ttest_rel](https://docs.scipy.org/doc/scipy-0.14.0/reference/generated/scipy.stats.ttest_rel.html).<br>\n",
    "  \n",
    "\n",
    "* Проверка гипотезы о равенстве медиан.<br>\n",
    "  * Для несвязных выборок: критерий Манна-Уитни [scipy.stats.mannwhitneyu](https://docs.scipy.org/doc/scipy/reference/generated/scipy.stats.mannwhitneyu.html).<br>\n",
    "  * Для связных выборок: критерий Уилкоксона [scipy.stats.wilcoxon](https://docs.scipy.org/doc/scipy/reference/generated/scipy.stats.wilcoxon.html).<br>\n",
    "  * Критерий Муда [scipy.stats.median_test](https://docs.scipy.org/doc/scipy/reference/generated/scipy.stats.median_test.html).<br>\n",
    "\n",
    "\n",
    "* Проверка гипотезы о равенстве дисперсий.<br>\n",
    "H0: $\\sigma_1 = \\sigma_2$<br>\n",
    "H1: $\\sigma_1 \\neq \\sigma_2$<br>\n",
    "Критерий Флингера-Килина [scipy.stats.fligner](https://docs.scipy.org/doc/scipy-0.17.0/reference/generated/scipy.stats.fligner.html).<br>\n",
    "\n",
    "\n",
    "* Проверка гипотезы о равенстве долей категориального признака.<br>\n",
    "H0: $p_1 = p_2$<br>\n",
    "H1: $p_1 \\ne p_2$<br>\n",
    "Критерий хи-квадрат [scipy.stats.chi2_contingency](https://docs.scipy.org/doc/scipy-0.17.0/reference/generated/scipy.stats.chi2_contingency.html).<br>\n",
    "\n",
    "\n",
    "* Проверка гипотезы о независимости (корреляция).<br>\n",
    "H0: X и Y независимы<br>\n",
    "H1: X и Y зависимы<br>\n",
    "  * Для непрерыных величин: корреляция Пирсона [scipy.stats.pearsonr](https://docs.scipy.org/doc/scipy-0.14.0/reference/generated/scipy.stats.pearsonr.html),<br>\n",
    "  * Для дискретных величин: корреляция Спирмэна [scipy.stats.kendalltau](https://docs.scipy.org/doc/scipy-0.14.0/reference/generated/scipy.stats.kendalltau.html).<br>\n"
   ]
  },
  {
   "cell_type": "markdown",
   "id": "31cae9fc",
   "metadata": {},
   "source": [
    "# Проверка гипотезы нормальности распределения"
   ]
  },
  {
   "cell_type": "markdown",
   "id": "33df6e0e",
   "metadata": {},
   "source": [
    "* Проверка гипотезы о нормальности распределения.<br>\n",
    "H0: $X \\sim N(\\cdot, \\cdot)$<br>\n",
    "H1: $X \\nsim N(\\cdot, \\cdot)$<br>\n",
    "\n",
    "Критерий Шапиро-Уилка [scipy.stats.shapiro](https://docs.scipy.org/doc/scipy-0.14.0/reference/generated/scipy.stats.shapiro.html).<br>"
   ]
  },
  {
   "cell_type": "markdown",
   "id": "4dc5ea9a",
   "metadata": {},
   "source": [
    "## Критерий Шапиро-Уилка. "
   ]
  },
  {
   "cell_type": "markdown",
   "id": "cc9ce6d0",
   "metadata": {},
   "source": [
    "### Пример 1: Население городов СССР "
   ]
  },
  {
   "cell_type": "markdown",
   "id": "36f82102",
   "metadata": {},
   "source": [
    "Кейс: Есть данные но количестве населения в городах Советского союза 60-х годов. Необходимо проверить гипотезу нормальности распределения выборки\n",
    "\n",
    "Выборки независимые."
   ]
  },
  {
   "cell_type": "code",
   "execution_count": 1,
   "id": "dffd0823",
   "metadata": {},
   "outputs": [],
   "source": [
    "import pandas as pd\n",
    "import numpy as np\n",
    "import matplotlib\n",
    "import matplotlib.pyplot as plt\n",
    "from scipy import stats\n",
    "matplotlib.style.use('ggplot')\n",
    "%matplotlib inline"
   ]
  },
  {
   "cell_type": "code",
   "execution_count": 2,
   "id": "96c96bc0",
   "metadata": {},
   "outputs": [],
   "source": [
    "import os\n",
    "os.chdir(\"C:\\\\Users\\\\User\\Documents\\GitHub\\\\2022_DA_ML_CaseStudies_Python_Keras\\\\5_Проверка статистических гипотез_Py\") # задаем рабочуюю директорию"
   ]
  },
  {
   "cell_type": "code",
   "execution_count": 3,
   "id": "d10ba5d6",
   "metadata": {},
   "outputs": [
    {
     "data": {
      "text/html": [
       "<div>\n",
       "<style scoped>\n",
       "    .dataframe tbody tr th:only-of-type {\n",
       "        vertical-align: middle;\n",
       "    }\n",
       "\n",
       "    .dataframe tbody tr th {\n",
       "        vertical-align: top;\n",
       "    }\n",
       "\n",
       "    .dataframe thead th {\n",
       "        text-align: right;\n",
       "    }\n",
       "</style>\n",
       "<table border=\"1\" class=\"dataframe\">\n",
       "  <thead>\n",
       "    <tr style=\"text-align: right;\">\n",
       "      <th></th>\n",
       "      <th>город</th>\n",
       "      <th>население</th>\n",
       "    </tr>\n",
       "    <tr>\n",
       "      <th>номер</th>\n",
       "      <th></th>\n",
       "      <th></th>\n",
       "    </tr>\n",
       "  </thead>\n",
       "  <tbody>\n",
       "    <tr>\n",
       "      <th>1</th>\n",
       "      <td>Москва</td>\n",
       "      <td>5046.0</td>\n",
       "    </tr>\n",
       "    <tr>\n",
       "      <th>2</th>\n",
       "      <td>Санкт-Петербург</td>\n",
       "      <td>3003.0</td>\n",
       "    </tr>\n",
       "    <tr>\n",
       "      <th>3</th>\n",
       "      <td>Нижний_Новгород</td>\n",
       "      <td>941.0</td>\n",
       "    </tr>\n",
       "    <tr>\n",
       "      <th>4</th>\n",
       "      <td>Новосибирск</td>\n",
       "      <td>885.0</td>\n",
       "    </tr>\n",
       "    <tr>\n",
       "      <th>5</th>\n",
       "      <td>Самара</td>\n",
       "      <td>806.0</td>\n",
       "    </tr>\n",
       "  </tbody>\n",
       "</table>\n",
       "</div>"
      ],
      "text/plain": [
       "                 город  население\n",
       "номер                            \n",
       "1               Москва     5046.0\n",
       "2      Санкт-Петербург     3003.0\n",
       "3      Нижний_Новгород      941.0\n",
       "4          Новосибирск      885.0\n",
       "5               Самара      806.0"
      ]
     },
     "execution_count": 3,
     "metadata": {},
     "output_type": "execute_result"
    }
   ],
   "source": [
    "df = pd.read_csv('town_1959_2.csv', encoding='cp1251')\n",
    "df = df.set_index(u'номер')\n",
    "df.head()"
   ]
  },
  {
   "cell_type": "code",
   "execution_count": 4,
   "id": "387c623e",
   "metadata": {},
   "outputs": [
    {
     "data": {
      "text/plain": [
       "(array([  1.,   8.,  24., 127., 408., 302.,  88.,  33.,  11.,   2.]),\n",
       " array([-1.        , -0.52970528, -0.05941055,  0.41088417,  0.8811789 ,\n",
       "         1.35147362,  1.82176835,  2.29206307,  2.7623578 ,  3.23265252,\n",
       "         3.70294725]),\n",
       " <BarContainer object of 10 artists>)"
      ]
     },
     "execution_count": 4,
     "metadata": {},
     "output_type": "execute_result"
    },
    {
     "data": {
      "image/png": "[encoded data removed]",
      "text/plain": [
       "<Figure size 432x288 with 1 Axes>"
      ]
     },
     "metadata": {
      "needs_background": "light"
     },
     "output_type": "display_data"
    }
   ],
   "source": [
    "plt.hist(np.log10(df[u'население'])) # строим гистограмму"
   ]
  },
  {
   "cell_type": "markdown",
   "id": "f29b663e",
   "metadata": {},
   "source": [
    "###### Примеряем критерий Шапиро-Уилка"
   ]
  },
  {
   "cell_type": "markdown",
   "id": "e190eea5",
   "metadata": {},
   "source": [
    "Метод Шапиро-Уилка основан на вычислении показателя статистической значимости 'p-value'."
   ]
  },
  {
   "cell_type": "code",
   "execution_count": 128,
   "id": "17af7507",
   "metadata": {},
   "outputs": [
    {
     "name": "stdout",
     "output_type": "stream",
     "text": [
      "p-value:  3.1486824866172602e-12\n"
     ]
    }
   ],
   "source": [
    "res = stats.shapiro(np.log10(df[u'население'])) # Команда вызова метода ШУ. указываем соответствующий столбец с данными\n",
    "print('p-value: ', res[1])"
   ]
  },
  {
   "cell_type": "markdown",
   "id": "64765b25",
   "metadata": {},
   "source": [
    "Значение p определяет вероятность попадания случайного значения в распределения. В нормальном распределении $ p > \\alpha = 0.05 $. Если значение меньше, значит нормальное распределение отвергаем. "
   ]
  },
  {
   "cell_type": "markdown",
   "id": "aedcd65e",
   "metadata": {},
   "source": [
    "##### Результат проверки:"
   ]
  },
  {
   "cell_type": "markdown",
   "id": "9d021d20",
   "metadata": {},
   "source": [
    "p-value получился маленьким (меньше $\\alpha = 0.01, 0.05$). \n",
    "\n",
    "H1: $X \\nsim N(\\cdot, \\cdot)$<br>"
   ]
  },
  {
   "cell_type": "markdown",
   "id": "c28bec0e",
   "metadata": {},
   "source": [
    "##### Визуальный анализ:"
   ]
  },
  {
   "cell_type": "markdown",
   "id": "5e5512bd",
   "metadata": {},
   "source": [
    "А почему получилось не нормальное распределение? Гистограмма же была колоколообразной. Станет понятнее, если увеличить число столбцов:"
   ]
  },
  {
   "cell_type": "code",
   "execution_count": 5,
   "id": "44fc0125",
   "metadata": {},
   "outputs": [
    {
     "data": {
      "image/png": "[encoded data removed]",
      "text/plain": [
       "<Figure size 432x288 with 1 Axes>"
      ]
     },
     "metadata": {
      "needs_background": "light"
     },
     "output_type": "display_data"
    }
   ],
   "source": [
    "plt.hist(np.log10(df[u'население']), bins=50); # коливчество наблюдений"
   ]
  },
  {
   "cell_type": "markdown",
   "id": "93b1c869",
   "metadata": {},
   "source": [
    "- Очевидно, что три выброса (один слева, два справа) являются аргументами, благодаря которым нормальность распределения не подтверждена. \n",
    "- Кроме того невооруженным глазом видно, что на верхних значениях \"колоколообразность\" также нарушена"
   ]
  },
  {
   "cell_type": "markdown",
   "id": "893696a9",
   "metadata": {},
   "source": [
    "##### Рекоммендации к дальнейшему анализу"
   ]
  },
  {
   "cell_type": "markdown",
   "id": "f7ef5d97",
   "metadata": {},
   "source": [
    "Если убрать 2 или 3 переменых в результате выброса, то к этим данным можно применять критерий Стьюдента, потому как отклонение от нормальности будет несущественным. "
   ]
  },
  {
   "cell_type": "markdown",
   "id": "7a5eae12",
   "metadata": {},
   "source": [
    "# Проверка гипотезы о равенстве средних значений"
   ]
  },
  {
   "cell_type": "markdown",
   "id": "8c31f95b",
   "metadata": {},
   "source": [
    "* Проверка гипотезы о равенстве средних значений.<br>\n",
    "H0: $\\mu_1 = \\mu_2$<br>\n",
    "H1: $\\mu_1 \\ne \\mu_2$<br>\n",
    "\n",
    "* Для несвязных выборок: критерий Манна-Уитни [scipy.stats.mannwhitneyu](https://docs.scipy.org/doc/scipy/reference/generated/scipy.stats.mannwhitneyu.html).<br>\n",
    "* Для связных выборок: критерий Уилкоксона [scipy.stats.wilcoxon](https://docs.scipy.org/doc/scipy/reference/generated/scipy.stats.wilcoxon.html).<br>"
   ]
  },
  {
   "cell_type": "markdown",
   "id": "0a5c48aa",
   "metadata": {},
   "source": [
    "## Метод Манна-Уитни. "
   ]
  },
  {
   "cell_type": "markdown",
   "id": "c77b3851",
   "metadata": {},
   "source": [
    "### Пример 2: Дома в Альбукерке"
   ]
  },
  {
   "cell_type": "markdown",
   "id": "5caf5bb8",
   "metadata": {},
   "source": [
    "U-критерий Манна — Уитни (англ. Mann–Whitney U test) — статистический критерий, используемый для оценки различий между двумя независимыми выборками по уровню какого-либо признака, измеренного количественно. Позволяет выявлять различия в значении параметра между малыми выборками."
   ]
  },
  {
   "cell_type": "markdown",
   "id": "089c53dd",
   "metadata": {},
   "source": [
    "Кейс: Дан набор данных, описывающий признаки домов. Необходимо оценить различия между двумя выборками по: критерий расположения дома на углу (COR). Хотим проверить, что цены домов на углу (COR = 1) отличаются от цен домов не на углу (COR = 0). \n",
    "\n",
    "Две выборки независимые.\n",
    "Хотим попробовать применить критерий Стьюдента, но предварительно нужно: \n",
    "\n",
    "- Проверить нормальность распределения данных,\n",
    "- Проверить равенство дисперсий\n"
   ]
  },
  {
   "cell_type": "code",
   "execution_count": 6,
   "id": "d98ff1ba",
   "metadata": {},
   "outputs": [
    {
     "data": {
      "text/html": [
       "<div>\n",
       "<style scoped>\n",
       "    .dataframe tbody tr th:only-of-type {\n",
       "        vertical-align: middle;\n",
       "    }\n",
       "\n",
       "    .dataframe tbody tr th {\n",
       "        vertical-align: top;\n",
       "    }\n",
       "\n",
       "    .dataframe thead th {\n",
       "        text-align: right;\n",
       "    }\n",
       "</style>\n",
       "<table border=\"1\" class=\"dataframe\">\n",
       "  <thead>\n",
       "    <tr style=\"text-align: right;\">\n",
       "      <th></th>\n",
       "      <th>PRICE</th>\n",
       "      <th>SQFT</th>\n",
       "      <th>AGE</th>\n",
       "      <th>FEATS</th>\n",
       "      <th>NE</th>\n",
       "      <th>CUST</th>\n",
       "      <th>COR</th>\n",
       "      <th>TAX</th>\n",
       "    </tr>\n",
       "  </thead>\n",
       "  <tbody>\n",
       "    <tr>\n",
       "      <th>0</th>\n",
       "      <td>2050</td>\n",
       "      <td>2650</td>\n",
       "      <td>13</td>\n",
       "      <td>7</td>\n",
       "      <td>1</td>\n",
       "      <td>1</td>\n",
       "      <td>0</td>\n",
       "      <td>1639</td>\n",
       "    </tr>\n",
       "    <tr>\n",
       "      <th>1</th>\n",
       "      <td>2080</td>\n",
       "      <td>2600</td>\n",
       "      <td>-9999</td>\n",
       "      <td>4</td>\n",
       "      <td>1</td>\n",
       "      <td>1</td>\n",
       "      <td>0</td>\n",
       "      <td>1088</td>\n",
       "    </tr>\n",
       "    <tr>\n",
       "      <th>2</th>\n",
       "      <td>2150</td>\n",
       "      <td>2664</td>\n",
       "      <td>6</td>\n",
       "      <td>5</td>\n",
       "      <td>1</td>\n",
       "      <td>1</td>\n",
       "      <td>0</td>\n",
       "      <td>1193</td>\n",
       "    </tr>\n",
       "    <tr>\n",
       "      <th>3</th>\n",
       "      <td>2150</td>\n",
       "      <td>2921</td>\n",
       "      <td>3</td>\n",
       "      <td>6</td>\n",
       "      <td>1</td>\n",
       "      <td>1</td>\n",
       "      <td>0</td>\n",
       "      <td>1635</td>\n",
       "    </tr>\n",
       "    <tr>\n",
       "      <th>4</th>\n",
       "      <td>1999</td>\n",
       "      <td>2580</td>\n",
       "      <td>4</td>\n",
       "      <td>4</td>\n",
       "      <td>1</td>\n",
       "      <td>1</td>\n",
       "      <td>0</td>\n",
       "      <td>1732</td>\n",
       "    </tr>\n",
       "  </tbody>\n",
       "</table>\n",
       "</div>"
      ],
      "text/plain": [
       "   PRICE  SQFT   AGE  FEATS  NE  CUST  COR   TAX\n",
       "0   2050  2650    13      7   1     1    0  1639\n",
       "1   2080  2600 -9999      4   1     1    0  1088\n",
       "2   2150  2664     6      5   1     1    0  1193\n",
       "3   2150  2921     3      6   1     1    0  1635\n",
       "4   1999  2580     4      4   1     1    0  1732"
      ]
     },
     "execution_count": 6,
     "metadata": {},
     "output_type": "execute_result"
    }
   ],
   "source": [
    "df = pd.read_csv('Albuquerque/Albuquerque Home Prices_data.txt', sep='\\t')\n",
    "df.head()"
   ]
  },
  {
   "cell_type": "markdown",
   "id": "e55a96f1",
   "metadata": {},
   "source": [
    "Мы хотим применить критерий Стьюдента + Поступило новое задание \"проверить средние цены\". В обоих случаях прежде необходимо проверить распределение данных на нормальность, после чего переходить к проверке равенства дисерсий. "
   ]
  },
  {
   "cell_type": "markdown",
   "id": "ab1de8f7",
   "metadata": {},
   "source": [
    "##### Приведем в порядок датафрейм:"
   ]
  },
  {
   "cell_type": "markdown",
   "id": "e5a897a8",
   "metadata": {},
   "source": [
    "Очевидно, что значение -9999 здесь употребляется в качестве пустого значения. Нужно заменить его на корректное пустое значение non available '''nan'''"
   ]
  },
  {
   "cell_type": "code",
   "execution_count": 131,
   "id": "2526aaf6",
   "metadata": {},
   "outputs": [
    {
     "data": {
      "text/html": [
       "<div>\n",
       "<style scoped>\n",
       "    .dataframe tbody tr th:only-of-type {\n",
       "        vertical-align: middle;\n",
       "    }\n",
       "\n",
       "    .dataframe tbody tr th {\n",
       "        vertical-align: top;\n",
       "    }\n",
       "\n",
       "    .dataframe thead th {\n",
       "        text-align: right;\n",
       "    }\n",
       "</style>\n",
       "<table border=\"1\" class=\"dataframe\">\n",
       "  <thead>\n",
       "    <tr style=\"text-align: right;\">\n",
       "      <th></th>\n",
       "      <th>PRICE</th>\n",
       "      <th>SQFT</th>\n",
       "      <th>AGE</th>\n",
       "      <th>FEATS</th>\n",
       "      <th>NE</th>\n",
       "      <th>CUST</th>\n",
       "      <th>COR</th>\n",
       "      <th>TAX</th>\n",
       "    </tr>\n",
       "  </thead>\n",
       "  <tbody>\n",
       "    <tr>\n",
       "      <th>0</th>\n",
       "      <td>2050</td>\n",
       "      <td>2650</td>\n",
       "      <td>13.0</td>\n",
       "      <td>7</td>\n",
       "      <td>1</td>\n",
       "      <td>1</td>\n",
       "      <td>0</td>\n",
       "      <td>1639.0</td>\n",
       "    </tr>\n",
       "    <tr>\n",
       "      <th>1</th>\n",
       "      <td>2080</td>\n",
       "      <td>2600</td>\n",
       "      <td>NaN</td>\n",
       "      <td>4</td>\n",
       "      <td>1</td>\n",
       "      <td>1</td>\n",
       "      <td>0</td>\n",
       "      <td>1088.0</td>\n",
       "    </tr>\n",
       "    <tr>\n",
       "      <th>2</th>\n",
       "      <td>2150</td>\n",
       "      <td>2664</td>\n",
       "      <td>6.0</td>\n",
       "      <td>5</td>\n",
       "      <td>1</td>\n",
       "      <td>1</td>\n",
       "      <td>0</td>\n",
       "      <td>1193.0</td>\n",
       "    </tr>\n",
       "    <tr>\n",
       "      <th>3</th>\n",
       "      <td>2150</td>\n",
       "      <td>2921</td>\n",
       "      <td>3.0</td>\n",
       "      <td>6</td>\n",
       "      <td>1</td>\n",
       "      <td>1</td>\n",
       "      <td>0</td>\n",
       "      <td>1635.0</td>\n",
       "    </tr>\n",
       "    <tr>\n",
       "      <th>4</th>\n",
       "      <td>1999</td>\n",
       "      <td>2580</td>\n",
       "      <td>4.0</td>\n",
       "      <td>4</td>\n",
       "      <td>1</td>\n",
       "      <td>1</td>\n",
       "      <td>0</td>\n",
       "      <td>1732.0</td>\n",
       "    </tr>\n",
       "  </tbody>\n",
       "</table>\n",
       "</div>"
      ],
      "text/plain": [
       "   PRICE  SQFT   AGE  FEATS  NE  CUST  COR     TAX\n",
       "0   2050  2650  13.0      7   1     1    0  1639.0\n",
       "1   2080  2600   NaN      4   1     1    0  1088.0\n",
       "2   2150  2664   6.0      5   1     1    0  1193.0\n",
       "3   2150  2921   3.0      6   1     1    0  1635.0\n",
       "4   1999  2580   4.0      4   1     1    0  1732.0"
      ]
     },
     "execution_count": 131,
     "metadata": {},
     "output_type": "execute_result"
    }
   ],
   "source": [
    "df = df.replace(-9999, np.nan) #  заменяем значение на более информативное \"nan\"\n",
    "df.head()"
   ]
  },
  {
   "cell_type": "markdown",
   "id": "be614ff3",
   "metadata": {},
   "source": [
    "Нас интересуют две группы домов: 1. на углу 2. не на углу. Первая группа у нас буде X со значением (1), вторая соответственно Y со значением (0)"
   ]
  },
  {
   "cell_type": "markdown",
   "id": "a3a3839f",
   "metadata": {},
   "source": [
    "##### Сохраним в отдельные переменные выборки, которые собираемся сравнивать:"
   ]
  },
  {
   "cell_type": "code",
   "execution_count": 7,
   "id": "68126afb",
   "metadata": {},
   "outputs": [],
   "source": [
    "x = df[df['COR'] == 1]['PRICE'] # на углу дома \n",
    "y = df[df['COR'] == 0]['PRICE'] # все остальные\n",
    "x.name, y.name = 'corner', 'not corner'"
   ]
  },
  {
   "cell_type": "markdown",
   "id": "e7b41d9d",
   "metadata": {},
   "source": [
    "##### Проверяем нормальность распределения данных:"
   ]
  },
  {
   "cell_type": "code",
   "execution_count": 8,
   "id": "8b21e97c",
   "metadata": {},
   "outputs": [],
   "source": [
    "# Функции определяются так.\n",
    "def two_histograms(x, y):\n",
    "# После определения функции полезно бывает добавить её описание в таком стиле.\n",
    "# Тройные кавычки -- для обрамления многострочных строковых литералов.\n",
    "    \"\"\"\n",
    "    Функция, которая построит две гистограммы на одной картинке.\n",
    "    Дополнительно пунктирными линиями указываются средние значения выборок.\n",
    "    x: вектор pd.Series,\n",
    "    y: вектор pd.Series\n",
    "    \"\"\"\n",
    "    x.hist(alpha=0.5, weights=[1./len(x)]*len(x))\n",
    "    y.hist(alpha=0.5, weights=[1./len(y)]*len(y))\n",
    "    plt.axvline(x.mean(), color='red', alpha=0.8, linestyle='dashed')\n",
    "    plt.axvline(y.mean(), color='blue', alpha=0.8, linestyle='dashed')\n",
    "    plt.legend([x.name, y.name])"
   ]
  },
  {
   "cell_type": "code",
   "execution_count": 134,
   "id": "efaa98c5",
   "metadata": {},
   "outputs": [
    {
     "data": {
      "image/png": "[encoded data removed]",
      "text/plain": [
       "<Figure size 432x288 with 1 Axes>"
      ]
     },
     "metadata": {
      "needs_background": "light"
     },
     "output_type": "display_data"
    }
   ],
   "source": [
    "# вызываем функцию для определённых выше векторов x, y.\n",
    "two_histograms(x, y)"
   ]
  },
  {
   "cell_type": "markdown",
   "id": "088063e7",
   "metadata": {},
   "source": [
    "##### Визуальный анализ:"
   ]
  },
  {
   "cell_type": "markdown",
   "id": "e19fb931",
   "metadata": {},
   "source": [
    "Как показывает гистограмма у нас есть существенные отклонения от нормальности распределения в выборке. В распределении есть очевидные выбросы, которые не дают применить критерий Стюдента. Можно было бы попробовать избавиться от них, но первой (красной) гистограмме это не поможет. Выброс у неё всего один, и его удаление не сделает данные более нормальными: слишком уж большой крайний левый столбик. Тогда можно поробовать применить непараметрические критерии. Критерий Уилкоксона применим только для парных выборок. У нас же в разных выборках находятся разные объекты (дома). Поэтому нам остаётся критерий Манна-Уитни.\n",
    "\n",
    "Идея сравнивать две выборки по средним арифметическим не прошла. Значит сравниваем медианы при помощи теста Манна-Уитни:"
   ]
  },
  {
   "cell_type": "markdown",
   "id": "f01ee93c",
   "metadata": {},
   "source": [
    "###### Примеряем критерий Манна-Уитни:"
   ]
  },
  {
   "cell_type": "code",
   "execution_count": 9,
   "id": "8d9c9318",
   "metadata": {},
   "outputs": [
    {
     "name": "stdout",
     "output_type": "stream",
     "text": [
      "p-value: 0.8044081572425339\n"
     ]
    }
   ],
   "source": [
    "res = stats.mannwhitneyu(x, y)  # Команда вызова метода МУ.\n",
    "print('p-value:', res[1])"
   ]
  },
  {
   "cell_type": "markdown",
   "id": "7d9f3f53",
   "metadata": {},
   "source": [
    "##### Результат проверки:"
   ]
  },
  {
   "cell_type": "markdown",
   "id": "fdad37f3",
   "metadata": {},
   "source": [
    "p-value получилось достаточно большим (больше $\\alpha = 0.05$), поэтому у нас нет оснований отвергнуть гипотезу. Разница медиан в выборках случайна. Цены домов практически не различаются (статистические различия незначительны). \n",
    "\n",
    "H0: $\\mu_1 = \\mu_2$<br>"
   ]
  },
  {
   "cell_type": "markdown",
   "id": "0a81dd16",
   "metadata": {},
   "source": [
    "# Проверка гипотезы о равенстве дисперсий"
   ]
  },
  {
   "cell_type": "markdown",
   "id": "ab335421",
   "metadata": {},
   "source": [
    "* Проверка гипотезы о равенстве дисперсий.<br>\n",
    "H0: $\\sigma_1 = \\sigma_2$<br>\n",
    "H1: $\\sigma_1 \\neq \\sigma_2$<br>\n",
    "Критерий Флингера-Килина [scipy.stats.fligner](https://docs.scipy.org/doc/scipy-0.17.0/reference/generated/scipy.stats.fligner.html).<br>"
   ]
  },
  {
   "cell_type": "markdown",
   "id": "0bf8174f",
   "metadata": {},
   "source": [
    "## Критерий Флингера-Килина. "
   ]
  },
  {
   "cell_type": "markdown",
   "id": "4097eb6f",
   "metadata": {},
   "source": [
    "### Пример 3: Продолжительность жизни"
   ]
  },
  {
   "cell_type": "markdown",
   "id": "f0a306d3",
   "metadata": {},
   "source": [
    "Кейс: Есть данные о возрасте, в котором умирали европейцы в середине 19 века, в зависимости от их класса (sovereignty, aristocracy, and gentry). Необходимо выяснить, насколько средний возраст продолжительности жизни отличается по этим трем группам. \n",
    "\n",
    "Две выборки независимые\n",
    "\n",
    "Хотим попробовать применить критерий Стьюдента, но предварительно нужно: \n",
    "\n",
    "- Проверить нормальность распределения данных,\n",
    "- Проверить равенство дисперсий"
   ]
  },
  {
   "cell_type": "code",
   "execution_count": 10,
   "id": "7f7d6d55",
   "metadata": {},
   "outputs": [
    {
     "data": {
      "text/html": [
       "<div>\n",
       "<style scoped>\n",
       "    .dataframe tbody tr th:only-of-type {\n",
       "        vertical-align: middle;\n",
       "    }\n",
       "\n",
       "    .dataframe tbody tr th {\n",
       "        vertical-align: top;\n",
       "    }\n",
       "\n",
       "    .dataframe thead th {\n",
       "        text-align: right;\n",
       "    }\n",
       "</style>\n",
       "<table border=\"1\" class=\"dataframe\">\n",
       "  <thead>\n",
       "    <tr style=\"text-align: right;\">\n",
       "      <th></th>\n",
       "      <th>group</th>\n",
       "      <th>age</th>\n",
       "      <th>index</th>\n",
       "    </tr>\n",
       "  </thead>\n",
       "  <tbody>\n",
       "    <tr>\n",
       "      <th>0</th>\n",
       "      <td>aris</td>\n",
       "      <td>21</td>\n",
       "      <td>1</td>\n",
       "    </tr>\n",
       "    <tr>\n",
       "      <th>1</th>\n",
       "      <td>aris</td>\n",
       "      <td>21</td>\n",
       "      <td>2</td>\n",
       "    </tr>\n",
       "    <tr>\n",
       "      <th>2</th>\n",
       "      <td>aris</td>\n",
       "      <td>21</td>\n",
       "      <td>3</td>\n",
       "    </tr>\n",
       "    <tr>\n",
       "      <th>3</th>\n",
       "      <td>aris</td>\n",
       "      <td>21</td>\n",
       "      <td>4</td>\n",
       "    </tr>\n",
       "    <tr>\n",
       "      <th>4</th>\n",
       "      <td>aris</td>\n",
       "      <td>21</td>\n",
       "      <td>5</td>\n",
       "    </tr>\n",
       "  </tbody>\n",
       "</table>\n",
       "</div>"
      ],
      "text/plain": [
       "  group  age  index\n",
       "0  aris   21      1\n",
       "1  aris   21      2\n",
       "2  aris   21      3\n",
       "3  aris   21      4\n",
       "4  aris   21      5"
      ]
     },
     "execution_count": 10,
     "metadata": {},
     "output_type": "execute_result"
    }
   ],
   "source": [
    "df = pd.read_csv('agedeath.dat.txt', sep='\\s+', header=None, names=['group', 'age', 'index'])\n",
    "df.head()"
   ]
  },
  {
   "cell_type": "markdown",
   "id": "6fa90d87",
   "metadata": {},
   "source": [
    "Хотим попробовать применить критерий Стьюдента для двух независимых выборок: "
   ]
  },
  {
   "cell_type": "markdown",
   "id": "fccd8405",
   "metadata": {},
   "source": [
    "##### Сохраним в отдельные переменные выборки, которые собираемся сравнивать:"
   ]
  },
  {
   "cell_type": "markdown",
   "id": "6a320154",
   "metadata": {},
   "source": [
    "Нас интересуют две категории граждан: 1. короли (sovr = X) 2. аристократы (aris = Y):"
   ]
  },
  {
   "cell_type": "code",
   "execution_count": 11,
   "id": "b2079526",
   "metadata": {},
   "outputs": [],
   "source": [
    "x = df[df['group'] == 'sovr']['age']\n",
    "y = df[df['group'] == 'aris']['age']\n",
    "x.name, y.name = 'sovr', 'aris'"
   ]
  },
  {
   "cell_type": "code",
   "execution_count": 138,
   "id": "73407dee",
   "metadata": {},
   "outputs": [
    {
     "data": {
      "image/png": "[encoded data removed]",
      "text/plain": [
       "<Figure size 432x288 with 1 Axes>"
      ]
     },
     "metadata": {
      "needs_background": "light"
     },
     "output_type": "display_data"
    }
   ],
   "source": [
    "two_histograms(x, y) # строим соответственно 2 гистограммы:"
   ]
  },
  {
   "cell_type": "markdown",
   "id": "983474f6",
   "metadata": {},
   "source": [
    "##### Визуальный анализ:"
   ]
  },
  {
   "cell_type": "markdown",
   "id": "f3e1e456",
   "metadata": {},
   "source": [
    "Выбросов нет, ассиметрии сильной тоже нет, колоколообразность сохранена => Данные условно нормальны => критерием Стьюдента (t-критерий) можно пользоваться.  \n",
    "\n",
    "Но прежде проверим c помощью критерия Флигнера-Килина, равны ли дисперсии."
   ]
  },
  {
   "cell_type": "markdown",
   "id": "0f08995e",
   "metadata": {},
   "source": [
    "###### Примеряем критерий Флингера-Килина:"
   ]
  },
  {
   "cell_type": "code",
   "execution_count": 12,
   "id": "d94cb778",
   "metadata": {},
   "outputs": [
    {
     "name": "stdout",
     "output_type": "stream",
     "text": [
      "p-value:  0.00010116077103844913\n"
     ]
    }
   ],
   "source": [
    "res = stats.fligner(x, y) # Команда вызова метода ФК.\n",
    "print('p-value: ', res[1])"
   ]
  },
  {
   "cell_type": "markdown",
   "id": "7d37e3d8",
   "metadata": {},
   "source": [
    "##### Результат проверки:"
   ]
  },
  {
   "cell_type": "markdown",
   "id": "bc218eaa",
   "metadata": {},
   "source": [
    "Значение p-value низкое, поэтому гипотезу о равенстве дисперсий отвергаем. \n",
    "\n",
    "H1: $\\sigma_1 \\neq \\sigma_2$<br>"
   ]
  },
  {
   "cell_type": "markdown",
   "id": "f38e82df",
   "metadata": {},
   "source": [
    "В двух выборках находятся разные наблюдаемые объекты, то есть выборки несвязные. Итого, гипотезу о равенстве средних значений будем проверять с помощью ```ttest_ind``` с опцией ```equal_var=False```. Это означает, что будет использоваться та версия t-критерия Стьюдента, которая не предполагает равенство дисперсий:"
   ]
  },
  {
   "cell_type": "code",
   "execution_count": 13,
   "id": "8aed60ce",
   "metadata": {},
   "outputs": [
    {
     "name": "stdout",
     "output_type": "stream",
     "text": [
      "p-value:  1.5181184197728794e-26\n"
     ]
    }
   ],
   "source": [
    "res = stats.ttest_ind(x, y, equal_var=False)\n",
    "print ('p-value: ', res[1])"
   ]
  },
  {
   "cell_type": "markdown",
   "id": "9a98693d",
   "metadata": {},
   "source": [
    "Вывод: т.к. p-значение меньше $\\alpha = 0.01, 0.05$, гипотезы о равенстве дисперсий отвергаются => продолжительность жизни королей различаются => переменная статистически значима. "
   ]
  },
  {
   "cell_type": "markdown",
   "id": "78952681",
   "metadata": {},
   "source": [
    "## Критерий Стьюдента для парных выборок. "
   ]
  },
  {
   "cell_type": "markdown",
   "id": "4e41f999",
   "metadata": {},
   "source": [
    "### Пример 4: Цвет шрифта"
   ]
  },
  {
   "cell_type": "markdown",
   "id": "0a2dd42d",
   "metadata": {},
   "source": [
    "* Критерий согласия Стьюдента.<br>\n",
    "H0: $\\mu = M$<br>\n",
    "H1: $\\mu \\ne M$<br>\n",
    "[scipy.stats.ttest_1samp](https://docs.scipy.org/doc/scipy-0.14.0/reference/generated/scipy.stats.ttest_1samp.html).<br>"
   ]
  },
  {
   "cell_type": "markdown",
   "id": "539ca1d7",
   "metadata": {},
   "source": [
    "Кейс: Исследование 1935 года, в котором изучалась скорость чтения названий цветов в зависимости от того, шрифт какого цвета использовался. В ходе каждого теста суммировалось время, потраченное на прохождение теста. Необходимо выяснить, насколько участники эксперементов смогли абстрагироваться от цвета букв. Влияло ли несоответствие цвета шрифта маркировке текста на скорость реакции?y\n",
    "\n",
    "Еслидо этого выборки были независимы, то в этом примере они парные (один и тот же человек проходит тест)\n",
    "\n",
    "Хотим попробовать применить критерий Стьюдента, но предварительно нужно: "
   ]
  },
  {
   "cell_type": "code",
   "execution_count": 14,
   "id": "9dfe980d",
   "metadata": {},
   "outputs": [
    {
     "data": {
      "text/html": [
       "<div>\n",
       "<style scoped>\n",
       "    .dataframe tbody tr th:only-of-type {\n",
       "        vertical-align: middle;\n",
       "    }\n",
       "\n",
       "    .dataframe tbody tr th {\n",
       "        vertical-align: top;\n",
       "    }\n",
       "\n",
       "    .dataframe thead th {\n",
       "        text-align: right;\n",
       "    }\n",
       "</style>\n",
       "<table border=\"1\" class=\"dataframe\">\n",
       "  <thead>\n",
       "    <tr style=\"text-align: right;\">\n",
       "      <th></th>\n",
       "      <th>Subj</th>\n",
       "      <th>DiffCol</th>\n",
       "      <th>Black</th>\n",
       "    </tr>\n",
       "  </thead>\n",
       "  <tbody>\n",
       "    <tr>\n",
       "      <th>0</th>\n",
       "      <td>1</td>\n",
       "      <td>39.64</td>\n",
       "      <td>37.53</td>\n",
       "    </tr>\n",
       "    <tr>\n",
       "      <th>1</th>\n",
       "      <td>2</td>\n",
       "      <td>44.26</td>\n",
       "      <td>42.02</td>\n",
       "    </tr>\n",
       "    <tr>\n",
       "      <th>2</th>\n",
       "      <td>3</td>\n",
       "      <td>33.84</td>\n",
       "      <td>31.99</td>\n",
       "    </tr>\n",
       "    <tr>\n",
       "      <th>3</th>\n",
       "      <td>4</td>\n",
       "      <td>53.88</td>\n",
       "      <td>39.48</td>\n",
       "    </tr>\n",
       "    <tr>\n",
       "      <th>4</th>\n",
       "      <td>5</td>\n",
       "      <td>38.94</td>\n",
       "      <td>43.09</td>\n",
       "    </tr>\n",
       "  </tbody>\n",
       "</table>\n",
       "</div>"
      ],
      "text/plain": [
       "   Subj  DiffCol  Black\n",
       "0     1    39.64  37.53\n",
       "1     2    44.26  42.02\n",
       "2     3    33.84  31.99\n",
       "3     4    53.88  39.48\n",
       "4     5    38.94  43.09"
      ]
     },
     "execution_count": 14,
     "metadata": {},
     "output_type": "execute_result"
    }
   ],
   "source": [
    "df = pd.read_csv('interference.csv')\n",
    "df.head()"
   ]
  },
  {
   "cell_type": "markdown",
   "id": "d8482695",
   "metadata": {},
   "source": [
    "##### Сохраним в отдельные переменные выборки, которые собираемся сравнивать:"
   ]
  },
  {
   "cell_type": "markdown",
   "id": "3cfd70c7",
   "metadata": {},
   "source": [
    "Нас интересуют две группы  1. Изменяющиеся цвета шрифта (Diffcoll) = X 2. Неизменяющийся черный шрифт (Black) = Y. "
   ]
  },
  {
   "cell_type": "code",
   "execution_count": 142,
   "id": "1e568673",
   "metadata": {},
   "outputs": [],
   "source": [
    "x = df['DiffCol'] # Изменяющиеся цвета шрифта\n",
    "y = df['Black'] # Неизменяющийся черный шрифт\n",
    "x.name, y.name = 'DiffCol', 'Black'"
   ]
  },
  {
   "cell_type": "code",
   "execution_count": 143,
   "id": "ae256e22",
   "metadata": {},
   "outputs": [
    {
     "data": {
      "image/png": "[encoded data removed]",
      "text/plain": [
       "<Figure size 432x288 with 1 Axes>"
      ]
     },
     "metadata": {
      "needs_background": "light"
     },
     "output_type": "display_data"
    }
   ],
   "source": [
    "two_histograms(x, y)"
   ]
  },
  {
   "cell_type": "markdown",
   "id": "4d57e082",
   "metadata": {},
   "source": [
    "##### Визуальный анализ:"
   ]
  },
  {
   "cell_type": "markdown",
   "id": "6ec5fbf7",
   "metadata": {},
   "source": [
    "Выбросов нет, ассиметрии сильной тоже нет, колоколообразность сохранена => Данные условно нормальны. Критерием Стьюдента можно пользоваться.   \n",
    "\n"
   ]
  },
  {
   "cell_type": "markdown",
   "id": "80b804c6",
   "metadata": {},
   "source": [
    "##### Применяем критерий Стьюдента"
   ]
  },
  {
   "cell_type": "markdown",
   "id": "cdd14b73",
   "metadata": {},
   "source": [
    "Поскольку в наблюдениях содержатся одни и те же люди, которых просили прочитать различные шрифты, поэтому выборки у нас связные, а значит используем ttest_rel."
   ]
  },
  {
   "cell_type": "code",
   "execution_count": 23,
   "id": "d4bf5ee9",
   "metadata": {},
   "outputs": [
    {
     "name": "stdout",
     "output_type": "stream",
     "text": [
      "p-value:  1.0210464321173577e-43\n"
     ]
    }
   ],
   "source": [
    "res = stats.ttest_rel(x, y) # Команда вызова метода ФК\n",
    "print('p-value: ', res[1])"
   ]
  },
  {
   "cell_type": "markdown",
   "id": "189527b2",
   "metadata": {},
   "source": [
    "##### Результат проверки:"
   ]
  },
  {
   "cell_type": "markdown",
   "id": "821a9466",
   "metadata": {},
   "source": [
    "p-value получился довольно низким ($\\alpha = 0.01, 0.05$), но возможно не таким низким, как хотелось бы.\n",
    "\n",
    "На уровне значимости 0.05 гипотеза будет отвергнута:\n",
    "\n",
    "H0: $\\mu = M$<br>\n",
    "\n",
    "но на уровне 0.01 уже нет. \n",
    "\n",
    "H1: $\\mu \\ne M$<br>\n",
    "\n",
    "Решение за исследователем. Всё зависит от того, насколько сильно мы боимся ошибки первого рода, насколько сильно мы должны ручаться за выводы."
   ]
  },
  {
   "cell_type": "markdown",
   "id": "a418cff5",
   "metadata": {},
   "source": [
    "# Проверка гипотезы однородности"
   ]
  },
  {
   "cell_type": "markdown",
   "id": "67fad145",
   "metadata": {},
   "source": [
    "* Проверка гипотезы о равенстве долей категориального признака.<br>\n",
    "H0: $p_1 = p_2$<br>\n",
    "H1: $p_1 \\ne p_2$<br>\n",
    "Критерий хи-квадрат [scipy.stats.chi2_contingency](https://docs.scipy.org/doc/scipy-0.17.0/reference/generated/scipy.stats.chi2_contingency.html).<br>"
   ]
  },
  {
   "cell_type": "markdown",
   "id": "d9625557",
   "metadata": {},
   "source": [
    "## Метод Хи-квадрат. "
   ]
  },
  {
   "cell_type": "markdown",
   "id": "888443eb",
   "metadata": {},
   "source": [
    "### Пример 5: Популярность кандидата"
   ]
  },
  {
   "cell_type": "markdown",
   "id": "2003cec7",
   "metadata": {},
   "source": [
    "Кейс: врегионе ожидаются выборы. Команда кандидата проводит опрос, в результате которого в поддержку кандидата выказалось 28% из 100 опрошенных в городе и 20% из 100 опрошенных на селе. Нужно выяснить, является ли эта разница статистически значимой, и нужно ли разворачивать дополнительную рекламную кампанию на селе.\n",
    " \n",
    "- Проверять будем критерием хи-квадрат. \n",
    "- Сначала построим таблицу сопряжённости."
   ]
  },
  {
   "cell_type": "markdown",
   "id": "50f665b0",
   "metadata": {},
   "source": [
    "##### Строим таблицу сопряженности:"
   ]
  },
  {
   "cell_type": "code",
   "execution_count": 24,
   "id": "688ef6c7",
   "metadata": {},
   "outputs": [
    {
     "data": {
      "text/html": [
       "<div>\n",
       "<style scoped>\n",
       "    .dataframe tbody tr th:only-of-type {\n",
       "        vertical-align: middle;\n",
       "    }\n",
       "\n",
       "    .dataframe tbody tr th {\n",
       "        vertical-align: top;\n",
       "    }\n",
       "\n",
       "    .dataframe thead th {\n",
       "        text-align: right;\n",
       "    }\n",
       "</style>\n",
       "<table border=\"1\" class=\"dataframe\">\n",
       "  <thead>\n",
       "    <tr style=\"text-align: right;\">\n",
       "      <th></th>\n",
       "      <th>for</th>\n",
       "      <th>against</th>\n",
       "    </tr>\n",
       "  </thead>\n",
       "  <tbody>\n",
       "    <tr>\n",
       "      <th>city</th>\n",
       "      <td>28</td>\n",
       "      <td>72</td>\n",
       "    </tr>\n",
       "    <tr>\n",
       "      <th>country</th>\n",
       "      <td>20</td>\n",
       "      <td>80</td>\n",
       "    </tr>\n",
       "  </tbody>\n",
       "</table>\n",
       "</div>"
      ],
      "text/plain": [
       "         for  against\n",
       "city      28       72\n",
       "country   20       80"
      ]
     },
     "execution_count": 24,
     "metadata": {},
     "output_type": "execute_result"
    }
   ],
   "source": [
    "contingency_table = pd.DataFrame([[28, 72], [20, 80]],\n",
    "                                 index=['city', 'country'],\n",
    "                                 columns=['for', 'against'])\n",
    "contingency_table"
   ]
  },
  {
   "cell_type": "markdown",
   "id": "899e3999",
   "metadata": {},
   "source": [
    "Необходимо выяснить, однородна ли поддержка (За/Против) кандидата в городе (city) и в сельской местности (country)"
   ]
  },
  {
   "cell_type": "markdown",
   "id": "379aac17",
   "metadata": {},
   "source": [
    "###### Примеряем метод Хи-квадрат"
   ]
  },
  {
   "cell_type": "code",
   "execution_count": 17,
   "id": "339f27c2",
   "metadata": {},
   "outputs": [
    {
     "name": "stdout",
     "output_type": "stream",
     "text": [
      "p-value: 0.2464701206916715\n"
     ]
    }
   ],
   "source": [
    "res = stats.chi2_contingency(contingency_table) # Команда вызова метода Хи-квадрат\n",
    "print ('p-value: {0}'.format(res[1]))"
   ]
  },
  {
   "cell_type": "markdown",
   "id": "4a3e4800",
   "metadata": {},
   "source": [
    "##### Результат проверки:"
   ]
  },
  {
   "cell_type": "markdown",
   "id": "3cbe7525",
   "metadata": {},
   "source": [
    "p-value получился достаточно большим, поэтому оснований отвергнуть гипотезу о равенстве долей нет:\n",
    "    \n",
    "$ H_{0}: p_1 = p_2$<br> "
   ]
  },
  {
   "cell_type": "markdown",
   "id": "9c2c7c75",
   "metadata": {},
   "source": [
    "К слову сказать: Метод Хи-квадрат, применяемый для оценки однородности, широко применяется в А\\Б тестировании и является критерием оценки ДО/ПОСЛЕ в тех случаях, когда нужно найти ответ из категории ДА/НЕТ. Например: Изменит ли количество зарегистрированных пользователей изменение в дизайне лендинга? (Этот метод часто применяла Марисса Мейер, когда отстаивала непоколебиимость дизайна главной страницы Гугла перед всеми попытками изменить главную концепцию, сделавшую Гугл своей визитной карточкой. "
   ]
  },
  {
   "cell_type": "markdown",
   "id": "f60ef96e",
   "metadata": {},
   "source": [
    "#  Проверка гепотезы о независимости (корреляция)"
   ]
  },
  {
   "cell_type": "markdown",
   "id": "ad8c0f4a",
   "metadata": {},
   "source": [
    "* Проверка гипотезы о независимости (корреляция).<br>\n",
    "H0: X и Y независимы<br>\n",
    "H1: X и Y зависимы<br>\n",
    "  * Для непрерыных величин: корреляция Пирсона [scipy.stats.pearsonr](https://docs.scipy.org/doc/scipy-0.14.0/reference/generated/scipy.stats.pearsonr.html),<br>\n",
    "  * Для дискретных величин: корреляция Спирмэна [scipy.stats.kendalltau](https://docs.scipy.org/doc/scipy-0.14.0/reference/generated/scipy.stats.kendalltau.html).<br>\n"
   ]
  },
  {
   "cell_type": "markdown",
   "id": "50073dcb",
   "metadata": {},
   "source": [
    "## Критерий Пирсона / Критерий Спирмена. "
   ]
  },
  {
   "cell_type": "markdown",
   "id": "b70e06cc",
   "metadata": {},
   "source": [
    "### Пример 6: Площадь и цена домов в Альбукерке"
   ]
  },
  {
   "cell_type": "markdown",
   "id": "562ddf11",
   "metadata": {},
   "source": [
    "Из всех методов корреляционного анализа наиболее популярны оба этих критерия. Причина популярности в их применимости относительно нормальности / ненормальности распределения. А так же относительно непрерывности  величин\n",
    "\n",
    "Применям Коэффициент Пирсона: распределение нормальное; величины непрерывные\n",
    "Применяем коэффициент Спримена: распределение ненормальное; величины дискретные\n"
   ]
  },
  {
   "cell_type": "markdown",
   "id": "849b4af0",
   "metadata": {},
   "source": [
    "Кейс: Дан набор данных, описывающий признаки домов. Необходимо оценить есть ли корреляция между площадью (SQFT) и ценой (PRICE). "
   ]
  },
  {
   "cell_type": "code",
   "execution_count": 18,
   "id": "903371c7",
   "metadata": {},
   "outputs": [],
   "source": [
    "df = pd.read_csv('Albuquerque/Albuquerque Home Prices_data.txt', sep='\\t')\n",
    "df = df.replace(-9999, np.nan)"
   ]
  },
  {
   "cell_type": "code",
   "execution_count": 19,
   "id": "b0c4c5ae",
   "metadata": {},
   "outputs": [
    {
     "data": {
      "text/html": [
       "<div>\n",
       "<style scoped>\n",
       "    .dataframe tbody tr th:only-of-type {\n",
       "        vertical-align: middle;\n",
       "    }\n",
       "\n",
       "    .dataframe tbody tr th {\n",
       "        vertical-align: top;\n",
       "    }\n",
       "\n",
       "    .dataframe thead th {\n",
       "        text-align: right;\n",
       "    }\n",
       "</style>\n",
       "<table border=\"1\" class=\"dataframe\">\n",
       "  <thead>\n",
       "    <tr style=\"text-align: right;\">\n",
       "      <th></th>\n",
       "      <th>PRICE</th>\n",
       "      <th>SQFT</th>\n",
       "      <th>AGE</th>\n",
       "      <th>FEATS</th>\n",
       "      <th>NE</th>\n",
       "      <th>CUST</th>\n",
       "      <th>COR</th>\n",
       "      <th>TAX</th>\n",
       "    </tr>\n",
       "  </thead>\n",
       "  <tbody>\n",
       "    <tr>\n",
       "      <th>0</th>\n",
       "      <td>2050</td>\n",
       "      <td>2650</td>\n",
       "      <td>13.0</td>\n",
       "      <td>7</td>\n",
       "      <td>1</td>\n",
       "      <td>1</td>\n",
       "      <td>0</td>\n",
       "      <td>1639.0</td>\n",
       "    </tr>\n",
       "    <tr>\n",
       "      <th>1</th>\n",
       "      <td>2080</td>\n",
       "      <td>2600</td>\n",
       "      <td>NaN</td>\n",
       "      <td>4</td>\n",
       "      <td>1</td>\n",
       "      <td>1</td>\n",
       "      <td>0</td>\n",
       "      <td>1088.0</td>\n",
       "    </tr>\n",
       "    <tr>\n",
       "      <th>2</th>\n",
       "      <td>2150</td>\n",
       "      <td>2664</td>\n",
       "      <td>6.0</td>\n",
       "      <td>5</td>\n",
       "      <td>1</td>\n",
       "      <td>1</td>\n",
       "      <td>0</td>\n",
       "      <td>1193.0</td>\n",
       "    </tr>\n",
       "    <tr>\n",
       "      <th>3</th>\n",
       "      <td>2150</td>\n",
       "      <td>2921</td>\n",
       "      <td>3.0</td>\n",
       "      <td>6</td>\n",
       "      <td>1</td>\n",
       "      <td>1</td>\n",
       "      <td>0</td>\n",
       "      <td>1635.0</td>\n",
       "    </tr>\n",
       "    <tr>\n",
       "      <th>4</th>\n",
       "      <td>1999</td>\n",
       "      <td>2580</td>\n",
       "      <td>4.0</td>\n",
       "      <td>4</td>\n",
       "      <td>1</td>\n",
       "      <td>1</td>\n",
       "      <td>0</td>\n",
       "      <td>1732.0</td>\n",
       "    </tr>\n",
       "  </tbody>\n",
       "</table>\n",
       "</div>"
      ],
      "text/plain": [
       "   PRICE  SQFT   AGE  FEATS  NE  CUST  COR     TAX\n",
       "0   2050  2650  13.0      7   1     1    0  1639.0\n",
       "1   2080  2600   NaN      4   1     1    0  1088.0\n",
       "2   2150  2664   6.0      5   1     1    0  1193.0\n",
       "3   2150  2921   3.0      6   1     1    0  1635.0\n",
       "4   1999  2580   4.0      4   1     1    0  1732.0"
      ]
     },
     "execution_count": 19,
     "metadata": {},
     "output_type": "execute_result"
    }
   ],
   "source": [
    "df.head()"
   ]
  },
  {
   "cell_type": "markdown",
   "id": "fa4db53d",
   "metadata": {},
   "source": [
    "##### Проверим корреляцию предикторов: "
   ]
  },
  {
   "cell_type": "markdown",
   "id": "2d01589f",
   "metadata": {},
   "source": [
    "Проверим очевидный факт, что площадь дома коррелирует с его ценой."
   ]
  },
  {
   "cell_type": "code",
   "execution_count": 20,
   "id": "ea03915a",
   "metadata": {
    "scrolled": true
   },
   "outputs": [
    {
     "data": {
      "text/plain": [
       "<matplotlib.collections.PathCollection at 0x1e254857e50>"
      ]
     },
     "execution_count": 20,
     "metadata": {},
     "output_type": "execute_result"
    },
    {
     "data": {
      "image/png": "[encoded data removed]",
      "text/plain": [
       "<Figure size 432x288 with 1 Axes>"
      ]
     },
     "metadata": {
      "needs_background": "light"
     },
     "output_type": "display_data"
    }
   ],
   "source": [
    "plt.scatter(df['PRICE'], df['SQFT'])  # Два предиктора"
   ]
  },
  {
   "cell_type": "markdown",
   "id": "9120f511",
   "metadata": {},
   "source": [
    "Очевидно, что линейная зависимость (корреляция) двух предикторов есть"
   ]
  },
  {
   "cell_type": "markdown",
   "id": "21947bbf",
   "metadata": {},
   "source": [
    "##### Проверим выборки на нормальность распределения: "
   ]
  },
  {
   "cell_type": "code",
   "execution_count": 21,
   "id": "fc059cde",
   "metadata": {},
   "outputs": [],
   "source": [
    "x = df['PRICE'] # Цена\n",
    "y = df['SQFT'] # Площадь\n",
    "x.name, y.name = 'PRICE', 'SQFT'"
   ]
  },
  {
   "cell_type": "code",
   "execution_count": 151,
   "id": "190d39a0",
   "metadata": {},
   "outputs": [
    {
     "data": {
      "image/png": "[encoded data removed]",
      "text/plain": [
       "<Figure size 432x288 with 1 Axes>"
      ]
     },
     "metadata": {
      "needs_background": "light"
     },
     "output_type": "display_data"
    }
   ],
   "source": [
    "two_histograms(x, y)"
   ]
  },
  {
   "cell_type": "markdown",
   "id": "f8185fc0",
   "metadata": {},
   "source": [
    "##### Визуальный анализ:"
   ]
  },
  {
   "cell_type": "markdown",
   "id": "f6bcafa1",
   "metadata": {},
   "source": [
    "Выбросов нет, ассиметрии сильной тоже нет, колоколообразность сохранена => Данные условно нормальны => Критерий Пирсона.   "
   ]
  },
  {
   "cell_type": "markdown",
   "id": "76cd929b",
   "metadata": {},
   "source": [
    "###### Примеряем критерий Пирсона: "
   ]
  },
  {
   "cell_type": "code",
   "execution_count": 22,
   "id": "d724a1f6",
   "metadata": {},
   "outputs": [
    {
     "name": "stdout",
     "output_type": "stream",
     "text": [
      "Pearson rho:  0.8447950985552122\n",
      "p-value:  5.1463457076294135e-33\n"
     ]
    }
   ],
   "source": [
    "res = stats.pearsonr(df['PRICE'], df['SQFT']) # Команда вызова критерия Пирсона\n",
    "print('Pearson rho: ', res[0])\n",
    "print('p-value: ', res[1])"
   ]
  },
  {
   "cell_type": "markdown",
   "id": "3a26d166",
   "metadata": {},
   "source": [
    "##### Результат проверки:"
   ]
  },
  {
   "cell_type": "markdown",
   "id": "66f71665",
   "metadata": {},
   "source": [
    "p-value получился достаточно большим, поэтому оснований принять гипотезу о независимости нет:\n",
    "    \n",
    "H1: X и Y зависимы<br>"
   ]
  },
  {
   "cell_type": "markdown",
   "id": "dc72f564",
   "metadata": {},
   "source": [
    "Pearson rho (коэффициент корреляции Пирсона) $ \\rho > 0,75 $ => Корреляция сильная => Статистической значимостью одного из предикторов можно пренебречь"
   ]
  }
 ],
 "metadata": {
  "kernelspec": {
   "display_name": "Python 3 (ipykernel)",
   "language": "python",
   "name": "python3"
  },
  "language_info": {
   "codemirror_mode": {
    "name": "ipython",
    "version": 3
   },
   "file_extension": ".py",
   "mimetype": "text/x-python",
   "name": "python",
   "nbconvert_exporter": "python",
   "pygments_lexer": "ipython3",
   "version": "3.9.7"
  }
 },
 "nbformat": 4,
 "nbformat_minor": 5
}
